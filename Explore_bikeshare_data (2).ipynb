{
 "cells": [
  {
   "cell_type": "markdown",
   "metadata": {},
   "source": [
    "### Explore Bike Share Data\n",
    "\n",
    "For this project, your goal is to ask and answer three questions about the available bikeshare data from Washington, Chicago, and New York.  This notebook can be submitted directly through the workspace when you are confident in your results.\n",
    "\n",
    "You will be graded against the project [Rubric](https://review.udacity.com/#!/rubrics/2508/view) by a mentor after you have submitted.  To get you started, you can use the template below, but feel free to be creative in your solutions!"
   ]
  },
  {
   "cell_type": "code",
   "execution_count": 1,
   "metadata": {},
   "outputs": [],
   "source": [
    "ny = read.csv('new_york_city.csv')\n",
    "wash = read.csv('washington.csv')\n",
    "chi = read.csv('chicago.csv')"
   ]
  },
  {
   "cell_type": "code",
   "execution_count": 53,
   "metadata": {},
   "outputs": [
    {
     "data": {
      "text/html": [
       "<table>\n",
       "<thead><tr><th scope=col>X</th><th scope=col>Start.Time</th><th scope=col>End.Time</th><th scope=col>Trip.Duration</th><th scope=col>Start.Station</th><th scope=col>End.Station</th><th scope=col>User.Type</th><th scope=col>Gender</th><th scope=col>Birth.Year</th></tr></thead>\n",
       "<tbody>\n",
       "\t<tr><td>5688089                                       </td><td>2017-06-11 14:55:05                           </td><td>2017-06-11 15:08:21                           </td><td> 795                                          </td><td>Suffolk St &amp; Stanton St                   </td><td>W Broadway &amp; Spring St                    </td><td>Subscriber                                    </td><td><span style=white-space:pre-wrap>Male  </span></td><td>1998                                          </td></tr>\n",
       "\t<tr><td>4096714                                                           </td><td>2017-05-11 15:30:11                                               </td><td>2017-05-11 15:41:43                                               </td><td> 692                                                              </td><td>Lexington Ave &amp; E 63 St                                       </td><td><span style=white-space:pre-wrap>1 Ave &amp; E 78 St       </span></td><td>Subscriber                                                        </td><td><span style=white-space:pre-wrap>Male  </span>                    </td><td>1981                                                              </td></tr>\n",
       "\t<tr><td>2173887                                                            </td><td>2017-03-29 13:26:26                                                </td><td>2017-03-29 13:48:31                                                </td><td>1325                                                               </td><td><span style=white-space:pre-wrap>1 Pl &amp; Clinton St      </span></td><td><span style=white-space:pre-wrap>Henry St &amp; Degraw St  </span> </td><td>Subscriber                                                         </td><td><span style=white-space:pre-wrap>Male  </span>                     </td><td>1987                                                               </td></tr>\n",
       "\t<tr><td>3945638                                                            </td><td>2017-05-08 19:47:18                                                </td><td>2017-05-08 19:59:01                                                </td><td> 703                                                               </td><td><span style=white-space:pre-wrap>Barrow St &amp; Hudson St  </span></td><td><span style=white-space:pre-wrap>W 20 St &amp; 8 Ave       </span> </td><td>Subscriber                                                         </td><td>Female                                                             </td><td>1986                                                               </td></tr>\n",
       "\t<tr><td>6208972                                                            </td><td>2017-06-21 07:49:16                                                </td><td>2017-06-21 07:54:46                                                </td><td> 329                                                               </td><td><span style=white-space:pre-wrap>1 Ave &amp; E 44 St        </span></td><td><span style=white-space:pre-wrap>E 53 St &amp; 3 Ave       </span> </td><td>Subscriber                                                         </td><td><span style=white-space:pre-wrap>Male  </span>                     </td><td>1992                                                               </td></tr>\n",
       "\t<tr><td>1285652                                                            </td><td>2017-02-22 18:55:24                                                </td><td>2017-02-22 19:12:03                                                </td><td> 998                                                               </td><td><span style=white-space:pre-wrap>State St &amp; Smith St    </span></td><td><span style=white-space:pre-wrap>Bond St &amp; Fulton St   </span> </td><td>Subscriber                                                         </td><td><span style=white-space:pre-wrap>Male  </span>                     </td><td>1986                                                               </td></tr>\n",
       "</tbody>\n",
       "</table>\n"
      ],
      "text/latex": [
       "\\begin{tabular}{r|lllllllll}\n",
       " X & Start.Time & End.Time & Trip.Duration & Start.Station & End.Station & User.Type & Gender & Birth.Year\\\\\n",
       "\\hline\n",
       "\t 5688089                   & 2017-06-11 14:55:05       & 2017-06-11 15:08:21       &  795                      & Suffolk St \\& Stanton St & W Broadway \\& Spring St  & Subscriber                & Male                      & 1998                     \\\\\n",
       "\t 4096714                   & 2017-05-11 15:30:11       & 2017-05-11 15:41:43       &  692                      & Lexington Ave \\& E 63 St & 1 Ave \\& E 78 St         & Subscriber                & Male                      & 1981                     \\\\\n",
       "\t 2173887                   & 2017-03-29 13:26:26       & 2017-03-29 13:48:31       & 1325                      & 1 Pl \\& Clinton St       & Henry St \\& Degraw St    & Subscriber                & Male                      & 1987                     \\\\\n",
       "\t 3945638                   & 2017-05-08 19:47:18       & 2017-05-08 19:59:01       &  703                      & Barrow St \\& Hudson St   & W 20 St \\& 8 Ave         & Subscriber                & Female                    & 1986                     \\\\\n",
       "\t 6208972                   & 2017-06-21 07:49:16       & 2017-06-21 07:54:46       &  329                      & 1 Ave \\& E 44 St         & E 53 St \\& 3 Ave         & Subscriber                & Male                      & 1992                     \\\\\n",
       "\t 1285652                   & 2017-02-22 18:55:24       & 2017-02-22 19:12:03       &  998                      & State St \\& Smith St     & Bond St \\& Fulton St     & Subscriber                & Male                      & 1986                     \\\\\n",
       "\\end{tabular}\n"
      ],
      "text/markdown": [
       "\n",
       "| X | Start.Time | End.Time | Trip.Duration | Start.Station | End.Station | User.Type | Gender | Birth.Year |\n",
       "|---|---|---|---|---|---|---|---|---|\n",
       "| 5688089                 | 2017-06-11 14:55:05     | 2017-06-11 15:08:21     |  795                    | Suffolk St & Stanton St | W Broadway & Spring St  | Subscriber              | Male                    | 1998                    |\n",
       "| 4096714                 | 2017-05-11 15:30:11     | 2017-05-11 15:41:43     |  692                    | Lexington Ave & E 63 St | 1 Ave & E 78 St         | Subscriber              | Male                    | 1981                    |\n",
       "| 2173887                 | 2017-03-29 13:26:26     | 2017-03-29 13:48:31     | 1325                    | 1 Pl & Clinton St       | Henry St & Degraw St    | Subscriber              | Male                    | 1987                    |\n",
       "| 3945638                 | 2017-05-08 19:47:18     | 2017-05-08 19:59:01     |  703                    | Barrow St & Hudson St   | W 20 St & 8 Ave         | Subscriber              | Female                  | 1986                    |\n",
       "| 6208972                 | 2017-06-21 07:49:16     | 2017-06-21 07:54:46     |  329                    | 1 Ave & E 44 St         | E 53 St & 3 Ave         | Subscriber              | Male                    | 1992                    |\n",
       "| 1285652                 | 2017-02-22 18:55:24     | 2017-02-22 19:12:03     |  998                    | State St & Smith St     | Bond St & Fulton St     | Subscriber              | Male                    | 1986                    |\n",
       "\n"
      ],
      "text/plain": [
       "  X       Start.Time          End.Time            Trip.Duration\n",
       "1 5688089 2017-06-11 14:55:05 2017-06-11 15:08:21  795         \n",
       "2 4096714 2017-05-11 15:30:11 2017-05-11 15:41:43  692         \n",
       "3 2173887 2017-03-29 13:26:26 2017-03-29 13:48:31 1325         \n",
       "4 3945638 2017-05-08 19:47:18 2017-05-08 19:59:01  703         \n",
       "5 6208972 2017-06-21 07:49:16 2017-06-21 07:54:46  329         \n",
       "6 1285652 2017-02-22 18:55:24 2017-02-22 19:12:03  998         \n",
       "  Start.Station           End.Station            User.Type  Gender Birth.Year\n",
       "1 Suffolk St & Stanton St W Broadway & Spring St Subscriber Male   1998      \n",
       "2 Lexington Ave & E 63 St 1 Ave & E 78 St        Subscriber Male   1981      \n",
       "3 1 Pl & Clinton St       Henry St & Degraw St   Subscriber Male   1987      \n",
       "4 Barrow St & Hudson St   W 20 St & 8 Ave        Subscriber Female 1986      \n",
       "5 1 Ave & E 44 St         E 53 St & 3 Ave        Subscriber Male   1992      \n",
       "6 State St & Smith St     Bond St & Fulton St    Subscriber Male   1986      "
      ]
     },
     "metadata": {},
     "output_type": "display_data"
    }
   ],
   "source": [
    "head(ny)\n"
   ]
  },
  {
   "cell_type": "code",
   "execution_count": 54,
   "metadata": {},
   "outputs": [
    {
     "data": {
      "text/html": [
       "<table>\n",
       "<thead><tr><th scope=col>X</th><th scope=col>Start.Time</th><th scope=col>End.Time</th><th scope=col>Trip.Duration</th><th scope=col>Start.Station</th><th scope=col>End.Station</th><th scope=col>User.Type</th></tr></thead>\n",
       "<tbody>\n",
       "\t<tr><td>1621326                                                                                        </td><td>2017-06-21 08:36:34                                                                            </td><td>2017-06-21 08:44:43                                                                            </td><td> 489.066                                                                                       </td><td><span style=white-space:pre-wrap>14th &amp; Belmont St NW                       </span>        </td><td><span style=white-space:pre-wrap>15th &amp; K St NW                                     </span></td><td>Subscriber                                                                                     </td></tr>\n",
       "\t<tr><td> 482740                                                                                        </td><td>2017-03-11 10:40:00                                                                            </td><td>2017-03-11 10:46:00                                                                            </td><td> 402.549                                                                                       </td><td><span style=white-space:pre-wrap>Yuma St &amp; Tenley Circle NW                 </span>        </td><td><span style=white-space:pre-wrap>Connecticut Ave &amp; Yuma St NW                       </span></td><td>Subscriber                                                                                     </td></tr>\n",
       "\t<tr><td>1330037                                                                                        </td><td>2017-05-30 01:02:59                                                                            </td><td>2017-05-30 01:13:37                                                                            </td><td> 637.251                                                                                       </td><td><span style=white-space:pre-wrap>17th St &amp; Massachusetts Ave NW             </span>        </td><td><span style=white-space:pre-wrap>5th &amp; K St NW                                      </span></td><td>Subscriber                                                                                     </td></tr>\n",
       "\t<tr><td> 665458                                                                                        </td><td>2017-04-02 07:48:35                                                                            </td><td>2017-04-02 08:19:03                                                                            </td><td>1827.341                                                                                       </td><td><span style=white-space:pre-wrap>Constitution Ave &amp; 2nd St NW/DOL           </span>        </td><td><span style=white-space:pre-wrap>M St &amp; Pennsylvania Ave NW                         </span></td><td><span style=white-space:pre-wrap>Customer  </span>                                             </td></tr>\n",
       "\t<tr><td>1481135                                                                                        </td><td>2017-06-10 08:36:28                                                                            </td><td>2017-06-10 09:02:17                                                                            </td><td>1549.427                                                                                       </td><td>Henry Bacon Dr &amp; Lincoln Memorial Circle NW                                                </td><td><span style=white-space:pre-wrap>Maine Ave &amp; 7th St SW                              </span></td><td>Subscriber                                                                                     </td></tr>\n",
       "\t<tr><td>1148202                                                                                </td><td>2017-05-14 07:18:18                                                                    </td><td>2017-05-14 07:24:56                                                                    </td><td> 398.000                                                                               </td><td><span style=white-space:pre-wrap>1st &amp; K St SE                              </span></td><td>Eastern Market Metro / Pennsylvania Ave &amp; 7th St SE                                </td><td>Subscriber                                                                             </td></tr>\n",
       "</tbody>\n",
       "</table>\n"
      ],
      "text/latex": [
       "\\begin{tabular}{r|lllllll}\n",
       " X & Start.Time & End.Time & Trip.Duration & Start.Station & End.Station & User.Type\\\\\n",
       "\\hline\n",
       "\t 1621326                                               & 2017-06-21 08:36:34                                   & 2017-06-21 08:44:43                                   &  489.066                                              & 14th \\& Belmont St NW                                & 15th \\& K St NW                                      & Subscriber                                           \\\\\n",
       "\t  482740                                               & 2017-03-11 10:40:00                                   & 2017-03-11 10:46:00                                   &  402.549                                              & Yuma St \\& Tenley Circle NW                          & Connecticut Ave \\& Yuma St NW                        & Subscriber                                           \\\\\n",
       "\t 1330037                                               & 2017-05-30 01:02:59                                   & 2017-05-30 01:13:37                                   &  637.251                                              & 17th St \\& Massachusetts Ave NW                      & 5th \\& K St NW                                       & Subscriber                                           \\\\\n",
       "\t  665458                                               & 2017-04-02 07:48:35                                   & 2017-04-02 08:19:03                                   & 1827.341                                              & Constitution Ave \\& 2nd St NW/DOL                    & M St \\& Pennsylvania Ave NW                          & Customer                                             \\\\\n",
       "\t 1481135                                               & 2017-06-10 08:36:28                                   & 2017-06-10 09:02:17                                   & 1549.427                                              & Henry Bacon Dr \\& Lincoln Memorial Circle NW         & Maine Ave \\& 7th St SW                               & Subscriber                                           \\\\\n",
       "\t 1148202                                               & 2017-05-14 07:18:18                                   & 2017-05-14 07:24:56                                   &  398.000                                              & 1st \\& K St SE                                       & Eastern Market Metro / Pennsylvania Ave \\& 7th St SE & Subscriber                                           \\\\\n",
       "\\end{tabular}\n"
      ],
      "text/markdown": [
       "\n",
       "| X | Start.Time | End.Time | Trip.Duration | Start.Station | End.Station | User.Type |\n",
       "|---|---|---|---|---|---|---|\n",
       "| 1621326                                             | 2017-06-21 08:36:34                                 | 2017-06-21 08:44:43                                 |  489.066                                            | 14th & Belmont St NW                                | 15th & K St NW                                      | Subscriber                                          |\n",
       "|  482740                                             | 2017-03-11 10:40:00                                 | 2017-03-11 10:46:00                                 |  402.549                                            | Yuma St & Tenley Circle NW                          | Connecticut Ave & Yuma St NW                        | Subscriber                                          |\n",
       "| 1330037                                             | 2017-05-30 01:02:59                                 | 2017-05-30 01:13:37                                 |  637.251                                            | 17th St & Massachusetts Ave NW                      | 5th & K St NW                                       | Subscriber                                          |\n",
       "|  665458                                             | 2017-04-02 07:48:35                                 | 2017-04-02 08:19:03                                 | 1827.341                                            | Constitution Ave & 2nd St NW/DOL                    | M St & Pennsylvania Ave NW                          | Customer                                            |\n",
       "| 1481135                                             | 2017-06-10 08:36:28                                 | 2017-06-10 09:02:17                                 | 1549.427                                            | Henry Bacon Dr & Lincoln Memorial Circle NW         | Maine Ave & 7th St SW                               | Subscriber                                          |\n",
       "| 1148202                                             | 2017-05-14 07:18:18                                 | 2017-05-14 07:24:56                                 |  398.000                                            | 1st & K St SE                                       | Eastern Market Metro / Pennsylvania Ave & 7th St SE | Subscriber                                          |\n",
       "\n"
      ],
      "text/plain": [
       "  X       Start.Time          End.Time            Trip.Duration\n",
       "1 1621326 2017-06-21 08:36:34 2017-06-21 08:44:43  489.066     \n",
       "2  482740 2017-03-11 10:40:00 2017-03-11 10:46:00  402.549     \n",
       "3 1330037 2017-05-30 01:02:59 2017-05-30 01:13:37  637.251     \n",
       "4  665458 2017-04-02 07:48:35 2017-04-02 08:19:03 1827.341     \n",
       "5 1481135 2017-06-10 08:36:28 2017-06-10 09:02:17 1549.427     \n",
       "6 1148202 2017-05-14 07:18:18 2017-05-14 07:24:56  398.000     \n",
       "  Start.Station                              \n",
       "1 14th & Belmont St NW                       \n",
       "2 Yuma St & Tenley Circle NW                 \n",
       "3 17th St & Massachusetts Ave NW             \n",
       "4 Constitution Ave & 2nd St NW/DOL           \n",
       "5 Henry Bacon Dr & Lincoln Memorial Circle NW\n",
       "6 1st & K St SE                              \n",
       "  End.Station                                         User.Type \n",
       "1 15th & K St NW                                      Subscriber\n",
       "2 Connecticut Ave & Yuma St NW                        Subscriber\n",
       "3 5th & K St NW                                       Subscriber\n",
       "4 M St & Pennsylvania Ave NW                          Customer  \n",
       "5 Maine Ave & 7th St SW                               Subscriber\n",
       "6 Eastern Market Metro / Pennsylvania Ave & 7th St SE Subscriber"
      ]
     },
     "metadata": {},
     "output_type": "display_data"
    }
   ],
   "source": [
    "head(wash)\n"
   ]
  },
  {
   "cell_type": "code",
   "execution_count": 55,
   "metadata": {},
   "outputs": [
    {
     "data": {
      "text/html": [
       "<table>\n",
       "<thead><tr><th scope=col>X</th><th scope=col>Start.Time</th><th scope=col>End.Time</th><th scope=col>Trip.Duration</th><th scope=col>Start.Station</th><th scope=col>End.Station</th><th scope=col>User.Type</th><th scope=col>Gender</th><th scope=col>Birth.Year</th></tr></thead>\n",
       "<tbody>\n",
       "\t<tr><td>1423854                                                                  </td><td>2017-06-23 15:09:32                                                      </td><td>2017-06-23 15:14:53                                                      </td><td> 321                                                                     </td><td><span style=white-space:pre-wrap>Wood St &amp; Hubbard St         </span></td><td><span style=white-space:pre-wrap>Damen Ave &amp; Chicago Ave     </span> </td><td>Subscriber                                                               </td><td><span style=white-space:pre-wrap>Male  </span>                           </td><td>1992                                                                     </td></tr>\n",
       "\t<tr><td> 955915                                                              </td><td>2017-05-25 18:19:03                                                  </td><td>2017-05-25 18:45:53                                                  </td><td>1610                                                                 </td><td><span style=white-space:pre-wrap>Theater on the Lake          </span></td><td>Sheffield Ave &amp; Waveland Ave                                     </td><td>Subscriber                                                           </td><td>Female                                                               </td><td>1992                                                                 </td></tr>\n",
       "\t<tr><td><span style=white-space:pre-wrap>   9031</span>                          </td><td>2017-01-04 08:27:49                                                      </td><td>2017-01-04 08:34:45                                                      </td><td> 416                                                                     </td><td><span style=white-space:pre-wrap>May St &amp; Taylor St           </span></td><td><span style=white-space:pre-wrap>Wood St &amp; Taylor St         </span> </td><td>Subscriber                                                               </td><td><span style=white-space:pre-wrap>Male  </span>                           </td><td>1981                                                                     </td></tr>\n",
       "\t<tr><td> 304487                                       </td><td>2017-03-06 13:49:38                           </td><td>2017-03-06 13:55:28                           </td><td> 350                                          </td><td>Christiana Ave &amp; Lawrence Ave             </td><td>St. Louis Ave &amp; Balmoral Ave              </td><td>Subscriber                                    </td><td><span style=white-space:pre-wrap>Male  </span></td><td>1986                                          </td></tr>\n",
       "\t<tr><td><span style=white-space:pre-wrap>  45207</span>                          </td><td>2017-01-17 14:53:07                                                      </td><td>2017-01-17 15:02:01                                                      </td><td> 534                                                                     </td><td><span style=white-space:pre-wrap>Clark St &amp; Randolph St       </span></td><td>Desplaines St &amp; Jackson Blvd                                         </td><td>Subscriber                                                               </td><td><span style=white-space:pre-wrap>Male  </span>                           </td><td>1975                                                                     </td></tr>\n",
       "\t<tr><td>1473887                                                                 </td><td>2017-06-26 09:01:20                                                     </td><td>2017-06-26 09:11:06                                                     </td><td> 586                                                                    </td><td>Clinton St &amp; Washington Blvd                                        </td><td><span style=white-space:pre-wrap>Canal St &amp; Taylor St        </span></td><td>Subscriber                                                              </td><td><span style=white-space:pre-wrap>Male  </span>                          </td><td>1990                                                                    </td></tr>\n",
       "</tbody>\n",
       "</table>\n"
      ],
      "text/latex": [
       "\\begin{tabular}{r|lllllllll}\n",
       " X & Start.Time & End.Time & Trip.Duration & Start.Station & End.Station & User.Type & Gender & Birth.Year\\\\\n",
       "\\hline\n",
       "\t 1423854                         & 2017-06-23 15:09:32             & 2017-06-23 15:14:53             &  321                            & Wood St \\& Hubbard St          & Damen Ave \\& Chicago Ave       & Subscriber                      & Male                            & 1992                           \\\\\n",
       "\t  955915                        & 2017-05-25 18:19:03            & 2017-05-25 18:45:53            & 1610                           & Theater on the Lake            & Sheffield Ave \\& Waveland Ave & Subscriber                     & Female                         & 1992                          \\\\\n",
       "\t    9031                         & 2017-01-04 08:27:49             & 2017-01-04 08:34:45             &  416                            & May St \\& Taylor St            & Wood St \\& Taylor St           & Subscriber                      & Male                            & 1981                           \\\\\n",
       "\t  304487                         & 2017-03-06 13:49:38             & 2017-03-06 13:55:28             &  350                            & Christiana Ave \\& Lawrence Ave & St. Louis Ave \\& Balmoral Ave  & Subscriber                      & Male                            & 1986                           \\\\\n",
       "\t   45207                         & 2017-01-17 14:53:07             & 2017-01-17 15:02:01             &  534                            & Clark St \\& Randolph St        & Desplaines St \\& Jackson Blvd  & Subscriber                      & Male                            & 1975                           \\\\\n",
       "\t 1473887                         & 2017-06-26 09:01:20             & 2017-06-26 09:11:06             &  586                            & Clinton St \\& Washington Blvd  & Canal St \\& Taylor St          & Subscriber                      & Male                            & 1990                           \\\\\n",
       "\\end{tabular}\n"
      ],
      "text/markdown": [
       "\n",
       "| X | Start.Time | End.Time | Trip.Duration | Start.Station | End.Station | User.Type | Gender | Birth.Year |\n",
       "|---|---|---|---|---|---|---|---|---|\n",
       "| 1423854                       | 2017-06-23 15:09:32           | 2017-06-23 15:14:53           |  321                          | Wood St & Hubbard St          | Damen Ave & Chicago Ave       | Subscriber                    | Male                          | 1992                          |\n",
       "|  955915                       | 2017-05-25 18:19:03           | 2017-05-25 18:45:53           | 1610                          | Theater on the Lake           | Sheffield Ave & Waveland Ave  | Subscriber                    | Female                        | 1992                          |\n",
       "|    9031                       | 2017-01-04 08:27:49           | 2017-01-04 08:34:45           |  416                          | May St & Taylor St            | Wood St & Taylor St           | Subscriber                    | Male                          | 1981                          |\n",
       "|  304487                       | 2017-03-06 13:49:38           | 2017-03-06 13:55:28           |  350                          | Christiana Ave & Lawrence Ave | St. Louis Ave & Balmoral Ave  | Subscriber                    | Male                          | 1986                          |\n",
       "|   45207                       | 2017-01-17 14:53:07           | 2017-01-17 15:02:01           |  534                          | Clark St & Randolph St        | Desplaines St & Jackson Blvd  | Subscriber                    | Male                          | 1975                          |\n",
       "| 1473887                       | 2017-06-26 09:01:20           | 2017-06-26 09:11:06           |  586                          | Clinton St & Washington Blvd  | Canal St & Taylor St          | Subscriber                    | Male                          | 1990                          |\n",
       "\n"
      ],
      "text/plain": [
       "  X       Start.Time          End.Time            Trip.Duration\n",
       "1 1423854 2017-06-23 15:09:32 2017-06-23 15:14:53  321         \n",
       "2  955915 2017-05-25 18:19:03 2017-05-25 18:45:53 1610         \n",
       "3    9031 2017-01-04 08:27:49 2017-01-04 08:34:45  416         \n",
       "4  304487 2017-03-06 13:49:38 2017-03-06 13:55:28  350         \n",
       "5   45207 2017-01-17 14:53:07 2017-01-17 15:02:01  534         \n",
       "6 1473887 2017-06-26 09:01:20 2017-06-26 09:11:06  586         \n",
       "  Start.Station                 End.Station                  User.Type  Gender\n",
       "1 Wood St & Hubbard St          Damen Ave & Chicago Ave      Subscriber Male  \n",
       "2 Theater on the Lake           Sheffield Ave & Waveland Ave Subscriber Female\n",
       "3 May St & Taylor St            Wood St & Taylor St          Subscriber Male  \n",
       "4 Christiana Ave & Lawrence Ave St. Louis Ave & Balmoral Ave Subscriber Male  \n",
       "5 Clark St & Randolph St        Desplaines St & Jackson Blvd Subscriber Male  \n",
       "6 Clinton St & Washington Blvd  Canal St & Taylor St         Subscriber Male  \n",
       "  Birth.Year\n",
       "1 1992      \n",
       "2 1992      \n",
       "3 1981      \n",
       "4 1986      \n",
       "5 1975      \n",
       "6 1990      "
      ]
     },
     "metadata": {},
     "output_type": "display_data"
    }
   ],
   "source": [
    "head(chi)\n"
   ]
  },
  {
   "cell_type": "code",
   "execution_count": 7,
   "metadata": {},
   "outputs": [
    {
     "data": {
      "text/html": [
       "<ol class=list-inline>\n",
       "\t<li>'assertthat'</li>\n",
       "\t<li>'backports'</li>\n",
       "\t<li>'base'</li>\n",
       "\t<li>'base64enc'</li>\n",
       "\t<li>'BH'</li>\n",
       "\t<li>'bindr'</li>\n",
       "\t<li>'bindrcpp'</li>\n",
       "\t<li>'bit'</li>\n",
       "\t<li>'bit64'</li>\n",
       "\t<li>'bitops'</li>\n",
       "\t<li>'blob'</li>\n",
       "\t<li>'broom'</li>\n",
       "\t<li>'callr'</li>\n",
       "\t<li>'caret'</li>\n",
       "\t<li>'cellranger'</li>\n",
       "\t<li>'class'</li>\n",
       "\t<li>'cli'</li>\n",
       "\t<li>'clipr'</li>\n",
       "\t<li>'codetools'</li>\n",
       "\t<li>'colorspace'</li>\n",
       "\t<li>'compiler'</li>\n",
       "\t<li>'config'</li>\n",
       "\t<li>'crayon'</li>\n",
       "\t<li>'curl'</li>\n",
       "\t<li>'datasets'</li>\n",
       "\t<li>'DBI'</li>\n",
       "\t<li>'dbplyr'</li>\n",
       "\t<li>'devtools'</li>\n",
       "\t<li>'digest'</li>\n",
       "\t<li>'dplyr'</li>\n",
       "\t<li>'evaluate'</li>\n",
       "\t<li>'fansi'</li>\n",
       "\t<li>'forcats'</li>\n",
       "\t<li>'foreach'</li>\n",
       "\t<li>'forecast'</li>\n",
       "\t<li>'forge'</li>\n",
       "\t<li>'fracdiff'</li>\n",
       "\t<li>'fs'</li>\n",
       "\t<li>'generics'</li>\n",
       "\t<li>'ggplot2'</li>\n",
       "\t<li>'git2r'</li>\n",
       "\t<li>'glue'</li>\n",
       "\t<li>'gower'</li>\n",
       "\t<li>'graphics'</li>\n",
       "\t<li>'grDevices'</li>\n",
       "\t<li>'grid'</li>\n",
       "\t<li>'gtable'</li>\n",
       "\t<li>'haven'</li>\n",
       "\t<li>'hexbin'</li>\n",
       "\t<li>'highr'</li>\n",
       "\t<li>'hms'</li>\n",
       "\t<li>'htmltools'</li>\n",
       "\t<li>'htmlwidgets'</li>\n",
       "\t<li>'httpuv'</li>\n",
       "\t<li>'httr'</li>\n",
       "\t<li>'ipred'</li>\n",
       "\t<li>'IRdisplay'</li>\n",
       "\t<li>'IRkernel'</li>\n",
       "\t<li>'iterators'</li>\n",
       "\t<li>'jsonlite'</li>\n",
       "\t<li>'KernSmooth'</li>\n",
       "\t<li>'knitr'</li>\n",
       "\t<li>'labeling'</li>\n",
       "\t<li>'later'</li>\n",
       "\t<li>'lattice'</li>\n",
       "\t<li>'lava'</li>\n",
       "\t<li>'lazyeval'</li>\n",
       "\t<li>'lmtest'</li>\n",
       "\t<li>'lubridate'</li>\n",
       "\t<li>'magrittr'</li>\n",
       "\t<li>'markdown'</li>\n",
       "\t<li>'MASS'</li>\n",
       "\t<li>'Matrix'</li>\n",
       "\t<li>'memoise'</li>\n",
       "\t<li>'methods'</li>\n",
       "\t<li>'mgcv'</li>\n",
       "\t<li>'mime'</li>\n",
       "\t<li>'ModelMetrics'</li>\n",
       "\t<li>'modelr'</li>\n",
       "\t<li>'munsell'</li>\n",
       "\t<li>'nlme'</li>\n",
       "\t<li>'nnet'</li>\n",
       "\t<li>'numDeriv'</li>\n",
       "\t<li>'nycflights13'</li>\n",
       "\t<li>'openssl'</li>\n",
       "\t<li>'parallel'</li>\n",
       "\t<li>'pbdZMQ'</li>\n",
       "\t<li>'pillar'</li>\n",
       "\t<li>'pkgconfig'</li>\n",
       "\t<li>'plogr'</li>\n",
       "\t<li>'plyr'</li>\n",
       "\t<li>'prettyunits'</li>\n",
       "\t<li>'processx'</li>\n",
       "\t<li>'prodlim'</li>\n",
       "\t<li>'progress'</li>\n",
       "\t<li>'promises'</li>\n",
       "\t<li>'ps'</li>\n",
       "\t<li>'purrr'</li>\n",
       "\t<li>'quadprog'</li>\n",
       "\t<li>'quantmod'</li>\n",
       "\t<li>'r2d3'</li>\n",
       "\t<li>'R6'</li>\n",
       "\t<li>'randomForest'</li>\n",
       "\t<li>'rappdirs'</li>\n",
       "\t<li>'RColorBrewer'</li>\n",
       "\t<li>'Rcpp'</li>\n",
       "\t<li>'RcppArmadillo'</li>\n",
       "\t<li>'RcppRoll'</li>\n",
       "\t<li>'RCurl'</li>\n",
       "\t<li>'readr'</li>\n",
       "\t<li>'readxl'</li>\n",
       "\t<li>'recipes'</li>\n",
       "\t<li>'rematch'</li>\n",
       "\t<li>'repr'</li>\n",
       "\t<li>'reprex'</li>\n",
       "\t<li>'reshape2'</li>\n",
       "\t<li>'rlang'</li>\n",
       "\t<li>'rmarkdown'</li>\n",
       "\t<li>'RODBC'</li>\n",
       "\t<li>'rpart'</li>\n",
       "\t<li>'rprojroot'</li>\n",
       "\t<li>'RSQLite'</li>\n",
       "\t<li>'rstudioapi'</li>\n",
       "\t<li>'rvest'</li>\n",
       "\t<li>'scales'</li>\n",
       "\t<li>'selectr'</li>\n",
       "\t<li>'shiny'</li>\n",
       "\t<li>'sourcetools'</li>\n",
       "\t<li>'sparklyr'</li>\n",
       "\t<li>'splines'</li>\n",
       "\t<li>'SQUAREM'</li>\n",
       "\t<li>'stats'</li>\n",
       "\t<li>'stats4'</li>\n",
       "\t<li>'stringi'</li>\n",
       "\t<li>'stringr'</li>\n",
       "\t<li>'survival'</li>\n",
       "\t<li>'tcltk'</li>\n",
       "\t<li>'tibble'</li>\n",
       "\t<li>'tidyr'</li>\n",
       "\t<li>'tidyselect'</li>\n",
       "\t<li>'tidyverse'</li>\n",
       "\t<li>'timeDate'</li>\n",
       "\t<li>'tinytex'</li>\n",
       "\t<li>'tools'</li>\n",
       "\t<li>'tseries'</li>\n",
       "\t<li>'TTR'</li>\n",
       "\t<li>'utf8'</li>\n",
       "\t<li>'utils'</li>\n",
       "\t<li>'uuid'</li>\n",
       "\t<li>'viridisLite'</li>\n",
       "\t<li>'whisker'</li>\n",
       "\t<li>'withr'</li>\n",
       "\t<li>'xfun'</li>\n",
       "\t<li>'xml2'</li>\n",
       "\t<li>'xtable'</li>\n",
       "\t<li>'xts'</li>\n",
       "\t<li>'yaml'</li>\n",
       "\t<li>'zoo'</li>\n",
       "</ol>\n"
      ],
      "text/latex": [
       "\\begin{enumerate*}\n",
       "\\item 'assertthat'\n",
       "\\item 'backports'\n",
       "\\item 'base'\n",
       "\\item 'base64enc'\n",
       "\\item 'BH'\n",
       "\\item 'bindr'\n",
       "\\item 'bindrcpp'\n",
       "\\item 'bit'\n",
       "\\item 'bit64'\n",
       "\\item 'bitops'\n",
       "\\item 'blob'\n",
       "\\item 'broom'\n",
       "\\item 'callr'\n",
       "\\item 'caret'\n",
       "\\item 'cellranger'\n",
       "\\item 'class'\n",
       "\\item 'cli'\n",
       "\\item 'clipr'\n",
       "\\item 'codetools'\n",
       "\\item 'colorspace'\n",
       "\\item 'compiler'\n",
       "\\item 'config'\n",
       "\\item 'crayon'\n",
       "\\item 'curl'\n",
       "\\item 'datasets'\n",
       "\\item 'DBI'\n",
       "\\item 'dbplyr'\n",
       "\\item 'devtools'\n",
       "\\item 'digest'\n",
       "\\item 'dplyr'\n",
       "\\item 'evaluate'\n",
       "\\item 'fansi'\n",
       "\\item 'forcats'\n",
       "\\item 'foreach'\n",
       "\\item 'forecast'\n",
       "\\item 'forge'\n",
       "\\item 'fracdiff'\n",
       "\\item 'fs'\n",
       "\\item 'generics'\n",
       "\\item 'ggplot2'\n",
       "\\item 'git2r'\n",
       "\\item 'glue'\n",
       "\\item 'gower'\n",
       "\\item 'graphics'\n",
       "\\item 'grDevices'\n",
       "\\item 'grid'\n",
       "\\item 'gtable'\n",
       "\\item 'haven'\n",
       "\\item 'hexbin'\n",
       "\\item 'highr'\n",
       "\\item 'hms'\n",
       "\\item 'htmltools'\n",
       "\\item 'htmlwidgets'\n",
       "\\item 'httpuv'\n",
       "\\item 'httr'\n",
       "\\item 'ipred'\n",
       "\\item 'IRdisplay'\n",
       "\\item 'IRkernel'\n",
       "\\item 'iterators'\n",
       "\\item 'jsonlite'\n",
       "\\item 'KernSmooth'\n",
       "\\item 'knitr'\n",
       "\\item 'labeling'\n",
       "\\item 'later'\n",
       "\\item 'lattice'\n",
       "\\item 'lava'\n",
       "\\item 'lazyeval'\n",
       "\\item 'lmtest'\n",
       "\\item 'lubridate'\n",
       "\\item 'magrittr'\n",
       "\\item 'markdown'\n",
       "\\item 'MASS'\n",
       "\\item 'Matrix'\n",
       "\\item 'memoise'\n",
       "\\item 'methods'\n",
       "\\item 'mgcv'\n",
       "\\item 'mime'\n",
       "\\item 'ModelMetrics'\n",
       "\\item 'modelr'\n",
       "\\item 'munsell'\n",
       "\\item 'nlme'\n",
       "\\item 'nnet'\n",
       "\\item 'numDeriv'\n",
       "\\item 'nycflights13'\n",
       "\\item 'openssl'\n",
       "\\item 'parallel'\n",
       "\\item 'pbdZMQ'\n",
       "\\item 'pillar'\n",
       "\\item 'pkgconfig'\n",
       "\\item 'plogr'\n",
       "\\item 'plyr'\n",
       "\\item 'prettyunits'\n",
       "\\item 'processx'\n",
       "\\item 'prodlim'\n",
       "\\item 'progress'\n",
       "\\item 'promises'\n",
       "\\item 'ps'\n",
       "\\item 'purrr'\n",
       "\\item 'quadprog'\n",
       "\\item 'quantmod'\n",
       "\\item 'r2d3'\n",
       "\\item 'R6'\n",
       "\\item 'randomForest'\n",
       "\\item 'rappdirs'\n",
       "\\item 'RColorBrewer'\n",
       "\\item 'Rcpp'\n",
       "\\item 'RcppArmadillo'\n",
       "\\item 'RcppRoll'\n",
       "\\item 'RCurl'\n",
       "\\item 'readr'\n",
       "\\item 'readxl'\n",
       "\\item 'recipes'\n",
       "\\item 'rematch'\n",
       "\\item 'repr'\n",
       "\\item 'reprex'\n",
       "\\item 'reshape2'\n",
       "\\item 'rlang'\n",
       "\\item 'rmarkdown'\n",
       "\\item 'RODBC'\n",
       "\\item 'rpart'\n",
       "\\item 'rprojroot'\n",
       "\\item 'RSQLite'\n",
       "\\item 'rstudioapi'\n",
       "\\item 'rvest'\n",
       "\\item 'scales'\n",
       "\\item 'selectr'\n",
       "\\item 'shiny'\n",
       "\\item 'sourcetools'\n",
       "\\item 'sparklyr'\n",
       "\\item 'splines'\n",
       "\\item 'SQUAREM'\n",
       "\\item 'stats'\n",
       "\\item 'stats4'\n",
       "\\item 'stringi'\n",
       "\\item 'stringr'\n",
       "\\item 'survival'\n",
       "\\item 'tcltk'\n",
       "\\item 'tibble'\n",
       "\\item 'tidyr'\n",
       "\\item 'tidyselect'\n",
       "\\item 'tidyverse'\n",
       "\\item 'timeDate'\n",
       "\\item 'tinytex'\n",
       "\\item 'tools'\n",
       "\\item 'tseries'\n",
       "\\item 'TTR'\n",
       "\\item 'utf8'\n",
       "\\item 'utils'\n",
       "\\item 'uuid'\n",
       "\\item 'viridisLite'\n",
       "\\item 'whisker'\n",
       "\\item 'withr'\n",
       "\\item 'xfun'\n",
       "\\item 'xml2'\n",
       "\\item 'xtable'\n",
       "\\item 'xts'\n",
       "\\item 'yaml'\n",
       "\\item 'zoo'\n",
       "\\end{enumerate*}\n"
      ],
      "text/markdown": [
       "1. 'assertthat'\n",
       "2. 'backports'\n",
       "3. 'base'\n",
       "4. 'base64enc'\n",
       "5. 'BH'\n",
       "6. 'bindr'\n",
       "7. 'bindrcpp'\n",
       "8. 'bit'\n",
       "9. 'bit64'\n",
       "10. 'bitops'\n",
       "11. 'blob'\n",
       "12. 'broom'\n",
       "13. 'callr'\n",
       "14. 'caret'\n",
       "15. 'cellranger'\n",
       "16. 'class'\n",
       "17. 'cli'\n",
       "18. 'clipr'\n",
       "19. 'codetools'\n",
       "20. 'colorspace'\n",
       "21. 'compiler'\n",
       "22. 'config'\n",
       "23. 'crayon'\n",
       "24. 'curl'\n",
       "25. 'datasets'\n",
       "26. 'DBI'\n",
       "27. 'dbplyr'\n",
       "28. 'devtools'\n",
       "29. 'digest'\n",
       "30. 'dplyr'\n",
       "31. 'evaluate'\n",
       "32. 'fansi'\n",
       "33. 'forcats'\n",
       "34. 'foreach'\n",
       "35. 'forecast'\n",
       "36. 'forge'\n",
       "37. 'fracdiff'\n",
       "38. 'fs'\n",
       "39. 'generics'\n",
       "40. 'ggplot2'\n",
       "41. 'git2r'\n",
       "42. 'glue'\n",
       "43. 'gower'\n",
       "44. 'graphics'\n",
       "45. 'grDevices'\n",
       "46. 'grid'\n",
       "47. 'gtable'\n",
       "48. 'haven'\n",
       "49. 'hexbin'\n",
       "50. 'highr'\n",
       "51. 'hms'\n",
       "52. 'htmltools'\n",
       "53. 'htmlwidgets'\n",
       "54. 'httpuv'\n",
       "55. 'httr'\n",
       "56. 'ipred'\n",
       "57. 'IRdisplay'\n",
       "58. 'IRkernel'\n",
       "59. 'iterators'\n",
       "60. 'jsonlite'\n",
       "61. 'KernSmooth'\n",
       "62. 'knitr'\n",
       "63. 'labeling'\n",
       "64. 'later'\n",
       "65. 'lattice'\n",
       "66. 'lava'\n",
       "67. 'lazyeval'\n",
       "68. 'lmtest'\n",
       "69. 'lubridate'\n",
       "70. 'magrittr'\n",
       "71. 'markdown'\n",
       "72. 'MASS'\n",
       "73. 'Matrix'\n",
       "74. 'memoise'\n",
       "75. 'methods'\n",
       "76. 'mgcv'\n",
       "77. 'mime'\n",
       "78. 'ModelMetrics'\n",
       "79. 'modelr'\n",
       "80. 'munsell'\n",
       "81. 'nlme'\n",
       "82. 'nnet'\n",
       "83. 'numDeriv'\n",
       "84. 'nycflights13'\n",
       "85. 'openssl'\n",
       "86. 'parallel'\n",
       "87. 'pbdZMQ'\n",
       "88. 'pillar'\n",
       "89. 'pkgconfig'\n",
       "90. 'plogr'\n",
       "91. 'plyr'\n",
       "92. 'prettyunits'\n",
       "93. 'processx'\n",
       "94. 'prodlim'\n",
       "95. 'progress'\n",
       "96. 'promises'\n",
       "97. 'ps'\n",
       "98. 'purrr'\n",
       "99. 'quadprog'\n",
       "100. 'quantmod'\n",
       "101. 'r2d3'\n",
       "102. 'R6'\n",
       "103. 'randomForest'\n",
       "104. 'rappdirs'\n",
       "105. 'RColorBrewer'\n",
       "106. 'Rcpp'\n",
       "107. 'RcppArmadillo'\n",
       "108. 'RcppRoll'\n",
       "109. 'RCurl'\n",
       "110. 'readr'\n",
       "111. 'readxl'\n",
       "112. 'recipes'\n",
       "113. 'rematch'\n",
       "114. 'repr'\n",
       "115. 'reprex'\n",
       "116. 'reshape2'\n",
       "117. 'rlang'\n",
       "118. 'rmarkdown'\n",
       "119. 'RODBC'\n",
       "120. 'rpart'\n",
       "121. 'rprojroot'\n",
       "122. 'RSQLite'\n",
       "123. 'rstudioapi'\n",
       "124. 'rvest'\n",
       "125. 'scales'\n",
       "126. 'selectr'\n",
       "127. 'shiny'\n",
       "128. 'sourcetools'\n",
       "129. 'sparklyr'\n",
       "130. 'splines'\n",
       "131. 'SQUAREM'\n",
       "132. 'stats'\n",
       "133. 'stats4'\n",
       "134. 'stringi'\n",
       "135. 'stringr'\n",
       "136. 'survival'\n",
       "137. 'tcltk'\n",
       "138. 'tibble'\n",
       "139. 'tidyr'\n",
       "140. 'tidyselect'\n",
       "141. 'tidyverse'\n",
       "142. 'timeDate'\n",
       "143. 'tinytex'\n",
       "144. 'tools'\n",
       "145. 'tseries'\n",
       "146. 'TTR'\n",
       "147. 'utf8'\n",
       "148. 'utils'\n",
       "149. 'uuid'\n",
       "150. 'viridisLite'\n",
       "151. 'whisker'\n",
       "152. 'withr'\n",
       "153. 'xfun'\n",
       "154. 'xml2'\n",
       "155. 'xtable'\n",
       "156. 'xts'\n",
       "157. 'yaml'\n",
       "158. 'zoo'\n",
       "\n",
       "\n"
      ],
      "text/plain": [
       "  [1] \"assertthat\"    \"backports\"     \"base\"          \"base64enc\"    \n",
       "  [5] \"BH\"            \"bindr\"         \"bindrcpp\"      \"bit\"          \n",
       "  [9] \"bit64\"         \"bitops\"        \"blob\"          \"broom\"        \n",
       " [13] \"callr\"         \"caret\"         \"cellranger\"    \"class\"        \n",
       " [17] \"cli\"           \"clipr\"         \"codetools\"     \"colorspace\"   \n",
       " [21] \"compiler\"      \"config\"        \"crayon\"        \"curl\"         \n",
       " [25] \"datasets\"      \"DBI\"           \"dbplyr\"        \"devtools\"     \n",
       " [29] \"digest\"        \"dplyr\"         \"evaluate\"      \"fansi\"        \n",
       " [33] \"forcats\"       \"foreach\"       \"forecast\"      \"forge\"        \n",
       " [37] \"fracdiff\"      \"fs\"            \"generics\"      \"ggplot2\"      \n",
       " [41] \"git2r\"         \"glue\"          \"gower\"         \"graphics\"     \n",
       " [45] \"grDevices\"     \"grid\"          \"gtable\"        \"haven\"        \n",
       " [49] \"hexbin\"        \"highr\"         \"hms\"           \"htmltools\"    \n",
       " [53] \"htmlwidgets\"   \"httpuv\"        \"httr\"          \"ipred\"        \n",
       " [57] \"IRdisplay\"     \"IRkernel\"      \"iterators\"     \"jsonlite\"     \n",
       " [61] \"KernSmooth\"    \"knitr\"         \"labeling\"      \"later\"        \n",
       " [65] \"lattice\"       \"lava\"          \"lazyeval\"      \"lmtest\"       \n",
       " [69] \"lubridate\"     \"magrittr\"      \"markdown\"      \"MASS\"         \n",
       " [73] \"Matrix\"        \"memoise\"       \"methods\"       \"mgcv\"         \n",
       " [77] \"mime\"          \"ModelMetrics\"  \"modelr\"        \"munsell\"      \n",
       " [81] \"nlme\"          \"nnet\"          \"numDeriv\"      \"nycflights13\" \n",
       " [85] \"openssl\"       \"parallel\"      \"pbdZMQ\"        \"pillar\"       \n",
       " [89] \"pkgconfig\"     \"plogr\"         \"plyr\"          \"prettyunits\"  \n",
       " [93] \"processx\"      \"prodlim\"       \"progress\"      \"promises\"     \n",
       " [97] \"ps\"            \"purrr\"         \"quadprog\"      \"quantmod\"     \n",
       "[101] \"r2d3\"          \"R6\"            \"randomForest\"  \"rappdirs\"     \n",
       "[105] \"RColorBrewer\"  \"Rcpp\"          \"RcppArmadillo\" \"RcppRoll\"     \n",
       "[109] \"RCurl\"         \"readr\"         \"readxl\"        \"recipes\"      \n",
       "[113] \"rematch\"       \"repr\"          \"reprex\"        \"reshape2\"     \n",
       "[117] \"rlang\"         \"rmarkdown\"     \"RODBC\"         \"rpart\"        \n",
       "[121] \"rprojroot\"     \"RSQLite\"       \"rstudioapi\"    \"rvest\"        \n",
       "[125] \"scales\"        \"selectr\"       \"shiny\"         \"sourcetools\"  \n",
       "[129] \"sparklyr\"      \"splines\"       \"SQUAREM\"       \"stats\"        \n",
       "[133] \"stats4\"        \"stringi\"       \"stringr\"       \"survival\"     \n",
       "[137] \"tcltk\"         \"tibble\"        \"tidyr\"         \"tidyselect\"   \n",
       "[141] \"tidyverse\"     \"timeDate\"      \"tinytex\"       \"tools\"        \n",
       "[145] \"tseries\"       \"TTR\"           \"utf8\"          \"utils\"        \n",
       "[149] \"uuid\"          \"viridisLite\"   \"whisker\"       \"withr\"        \n",
       "[153] \"xfun\"          \"xml2\"          \"xtable\"        \"xts\"          \n",
       "[157] \"yaml\"          \"zoo\"          "
      ]
     },
     "metadata": {},
     "output_type": "display_data"
    }
   ],
   "source": [
    "# Available packages\n",
    "library()$results[,1]"
   ]
  },
  {
   "cell_type": "code",
   "execution_count": 5,
   "metadata": {},
   "outputs": [],
   "source": [
    "library(tidyverse)\n",
    "library(ggplot2)\n",
    "library(lubridate)\n",
    "library(scales)"
   ]
  },
  {
   "cell_type": "code",
   "execution_count": 6,
   "metadata": {},
   "outputs": [
    {
     "name": "stderr",
     "output_type": "stream",
     "text": [
      "Warning message in bind_rows_(x, .id):\n",
      "“Unequal factor levels: coercing to character”Warning message in bind_rows_(x, .id):\n",
      "“binding character and factor vector, coercing into character vector”Warning message in bind_rows_(x, .id):\n",
      "“binding character and factor vector, coercing into character vector”Warning message in bind_rows_(x, .id):\n",
      "“Unequal factor levels: coercing to character”Warning message in bind_rows_(x, .id):\n",
      "“binding character and factor vector, coercing into character vector”Warning message in bind_rows_(x, .id):\n",
      "“binding character and factor vector, coercing into character vector”Warning message in bind_rows_(x, .id):\n",
      "“Unequal factor levels: coercing to character”Warning message in bind_rows_(x, .id):\n",
      "“binding character and factor vector, coercing into character vector”Warning message in bind_rows_(x, .id):\n",
      "“binding character and factor vector, coercing into character vector”Warning message in bind_rows_(x, .id):\n",
      "“Unequal factor levels: coercing to character”Warning message in bind_rows_(x, .id):\n",
      "“binding character and factor vector, coercing into character vector”Warning message in bind_rows_(x, .id):\n",
      "“binding character and factor vector, coercing into character vector”Warning message in bind_rows_(x, .id):\n",
      "“binding character and factor vector, coercing into character vector”Warning message in bind_rows_(x, .id):\n",
      "“binding character and factor vector, coercing into character vector”Warning message in bind_rows_(x, .id):\n",
      "“binding character and factor vector, coercing into character vector”Warning message in bind_rows_(x, .id):\n",
      "“binding character and factor vector, coercing into character vector”"
     ]
    }
   ],
   "source": [
    "# Create one dataframe \n",
    "\n",
    "df <- bind_rows(list(Chicago=chi, \"New York City\" = ny, Washington = wash), .id = 'source')"
   ]
  },
  {
   "cell_type": "code",
   "execution_count": 51,
   "metadata": {
    "scrolled": true
   },
   "outputs": [
    {
     "data": {
      "text/html": [
       "<table>\n",
       "<thead><tr><th scope=col>source</th><th scope=col>X</th><th scope=col>Start.Time</th><th scope=col>End.Time</th><th scope=col>Trip.Duration</th><th scope=col>Start.Station</th><th scope=col>End.Station</th><th scope=col>User.Type</th><th scope=col>Gender</th><th scope=col>Birth.Year</th></tr></thead>\n",
       "<tbody>\n",
       "\t<tr><td>Chicago                                                                  </td><td>1423854                                                                  </td><td>2017-06-23 15:09:32                                                      </td><td>2017-06-23 15:14:53                                                      </td><td> 321                                                                     </td><td><span style=white-space:pre-wrap>Wood St &amp; Hubbard St         </span></td><td><span style=white-space:pre-wrap>Damen Ave &amp; Chicago Ave     </span> </td><td>Subscriber                                                               </td><td><span style=white-space:pre-wrap>Male  </span>                           </td><td>1992                                                                     </td></tr>\n",
       "\t<tr><td>Chicago                                                              </td><td> 955915                                                              </td><td>2017-05-25 18:19:03                                                  </td><td>2017-05-25 18:45:53                                                  </td><td>1610                                                                 </td><td><span style=white-space:pre-wrap>Theater on the Lake          </span></td><td>Sheffield Ave &amp; Waveland Ave                                     </td><td>Subscriber                                                           </td><td>Female                                                               </td><td>1992                                                                 </td></tr>\n",
       "\t<tr><td>Chicago                                                                  </td><td><span style=white-space:pre-wrap>   9031</span>                          </td><td>2017-01-04 08:27:49                                                      </td><td>2017-01-04 08:34:45                                                      </td><td> 416                                                                     </td><td><span style=white-space:pre-wrap>May St &amp; Taylor St           </span></td><td><span style=white-space:pre-wrap>Wood St &amp; Taylor St         </span> </td><td>Subscriber                                                               </td><td><span style=white-space:pre-wrap>Male  </span>                           </td><td>1981                                                                     </td></tr>\n",
       "\t<tr><td>Chicago                                       </td><td> 304487                                       </td><td>2017-03-06 13:49:38                           </td><td>2017-03-06 13:55:28                           </td><td> 350                                          </td><td>Christiana Ave &amp; Lawrence Ave             </td><td>St. Louis Ave &amp; Balmoral Ave              </td><td>Subscriber                                    </td><td><span style=white-space:pre-wrap>Male  </span></td><td>1986                                          </td></tr>\n",
       "\t<tr><td>Chicago                                                                  </td><td><span style=white-space:pre-wrap>  45207</span>                          </td><td>2017-01-17 14:53:07                                                      </td><td>2017-01-17 15:02:01                                                      </td><td> 534                                                                     </td><td><span style=white-space:pre-wrap>Clark St &amp; Randolph St       </span></td><td>Desplaines St &amp; Jackson Blvd                                         </td><td>Subscriber                                                               </td><td><span style=white-space:pre-wrap>Male  </span>                           </td><td>1975                                                                     </td></tr>\n",
       "\t<tr><td>Chicago                                                                 </td><td>1473887                                                                 </td><td>2017-06-26 09:01:20                                                     </td><td>2017-06-26 09:11:06                                                     </td><td> 586                                                                    </td><td>Clinton St &amp; Washington Blvd                                        </td><td><span style=white-space:pre-wrap>Canal St &amp; Taylor St        </span></td><td>Subscriber                                                              </td><td><span style=white-space:pre-wrap>Male  </span>                          </td><td>1990                                                                    </td></tr>\n",
       "</tbody>\n",
       "</table>\n"
      ],
      "text/latex": [
       "\\begin{tabular}{r|llllllllll}\n",
       " source & X & Start.Time & End.Time & Trip.Duration & Start.Station & End.Station & User.Type & Gender & Birth.Year\\\\\n",
       "\\hline\n",
       "\t Chicago                         & 1423854                         & 2017-06-23 15:09:32             & 2017-06-23 15:14:53             &  321                            & Wood St \\& Hubbard St          & Damen Ave \\& Chicago Ave       & Subscriber                      & Male                            & 1992                           \\\\\n",
       "\t Chicago                        &  955915                        & 2017-05-25 18:19:03            & 2017-05-25 18:45:53            & 1610                           & Theater on the Lake            & Sheffield Ave \\& Waveland Ave & Subscriber                     & Female                         & 1992                          \\\\\n",
       "\t Chicago                         &    9031                         & 2017-01-04 08:27:49             & 2017-01-04 08:34:45             &  416                            & May St \\& Taylor St            & Wood St \\& Taylor St           & Subscriber                      & Male                            & 1981                           \\\\\n",
       "\t Chicago                         &  304487                         & 2017-03-06 13:49:38             & 2017-03-06 13:55:28             &  350                            & Christiana Ave \\& Lawrence Ave & St. Louis Ave \\& Balmoral Ave  & Subscriber                      & Male                            & 1986                           \\\\\n",
       "\t Chicago                         &   45207                         & 2017-01-17 14:53:07             & 2017-01-17 15:02:01             &  534                            & Clark St \\& Randolph St        & Desplaines St \\& Jackson Blvd  & Subscriber                      & Male                            & 1975                           \\\\\n",
       "\t Chicago                         & 1473887                         & 2017-06-26 09:01:20             & 2017-06-26 09:11:06             &  586                            & Clinton St \\& Washington Blvd  & Canal St \\& Taylor St          & Subscriber                      & Male                            & 1990                           \\\\\n",
       "\\end{tabular}\n"
      ],
      "text/markdown": [
       "\n",
       "| source | X | Start.Time | End.Time | Trip.Duration | Start.Station | End.Station | User.Type | Gender | Birth.Year |\n",
       "|---|---|---|---|---|---|---|---|---|---|\n",
       "| Chicago                       | 1423854                       | 2017-06-23 15:09:32           | 2017-06-23 15:14:53           |  321                          | Wood St & Hubbard St          | Damen Ave & Chicago Ave       | Subscriber                    | Male                          | 1992                          |\n",
       "| Chicago                       |  955915                       | 2017-05-25 18:19:03           | 2017-05-25 18:45:53           | 1610                          | Theater on the Lake           | Sheffield Ave & Waveland Ave  | Subscriber                    | Female                        | 1992                          |\n",
       "| Chicago                       |    9031                       | 2017-01-04 08:27:49           | 2017-01-04 08:34:45           |  416                          | May St & Taylor St            | Wood St & Taylor St           | Subscriber                    | Male                          | 1981                          |\n",
       "| Chicago                       |  304487                       | 2017-03-06 13:49:38           | 2017-03-06 13:55:28           |  350                          | Christiana Ave & Lawrence Ave | St. Louis Ave & Balmoral Ave  | Subscriber                    | Male                          | 1986                          |\n",
       "| Chicago                       |   45207                       | 2017-01-17 14:53:07           | 2017-01-17 15:02:01           |  534                          | Clark St & Randolph St        | Desplaines St & Jackson Blvd  | Subscriber                    | Male                          | 1975                          |\n",
       "| Chicago                       | 1473887                       | 2017-06-26 09:01:20           | 2017-06-26 09:11:06           |  586                          | Clinton St & Washington Blvd  | Canal St & Taylor St          | Subscriber                    | Male                          | 1990                          |\n",
       "\n"
      ],
      "text/plain": [
       "  source  X       Start.Time          End.Time            Trip.Duration\n",
       "1 Chicago 1423854 2017-06-23 15:09:32 2017-06-23 15:14:53  321         \n",
       "2 Chicago  955915 2017-05-25 18:19:03 2017-05-25 18:45:53 1610         \n",
       "3 Chicago    9031 2017-01-04 08:27:49 2017-01-04 08:34:45  416         \n",
       "4 Chicago  304487 2017-03-06 13:49:38 2017-03-06 13:55:28  350         \n",
       "5 Chicago   45207 2017-01-17 14:53:07 2017-01-17 15:02:01  534         \n",
       "6 Chicago 1473887 2017-06-26 09:01:20 2017-06-26 09:11:06  586         \n",
       "  Start.Station                 End.Station                  User.Type  Gender\n",
       "1 Wood St & Hubbard St          Damen Ave & Chicago Ave      Subscriber Male  \n",
       "2 Theater on the Lake           Sheffield Ave & Waveland Ave Subscriber Female\n",
       "3 May St & Taylor St            Wood St & Taylor St          Subscriber Male  \n",
       "4 Christiana Ave & Lawrence Ave St. Louis Ave & Balmoral Ave Subscriber Male  \n",
       "5 Clark St & Randolph St        Desplaines St & Jackson Blvd Subscriber Male  \n",
       "6 Clinton St & Washington Blvd  Canal St & Taylor St         Subscriber Male  \n",
       "  Birth.Year\n",
       "1 1992      \n",
       "2 1992      \n",
       "3 1981      \n",
       "4 1986      \n",
       "5 1975      \n",
       "6 1990      "
      ]
     },
     "metadata": {},
     "output_type": "display_data"
    }
   ],
   "source": [
    "# First rows\n",
    "head(df)"
   ]
  },
  {
   "cell_type": "code",
   "execution_count": 52,
   "metadata": {
    "scrolled": true
   },
   "outputs": [
    {
     "name": "stdout",
     "output_type": "stream",
     "text": [
      "'data.frame':\t152451 obs. of  10 variables:\n",
      " $ source       : chr  \"Chicago\" \"Chicago\" \"Chicago\" \"Chicago\" ...\n",
      " $ X            : int  1423854 955915 9031 304487 45207 1473887 961916 65924 606841 135470 ...\n",
      " $ Start.Time   : chr  \"2017-06-23 15:09:32\" \"2017-05-25 18:19:03\" \"2017-01-04 08:27:49\" \"2017-03-06 13:49:38\" ...\n",
      " $ End.Time     : chr  \"2017-06-23 15:14:53\" \"2017-05-25 18:45:53\" \"2017-01-04 08:34:45\" \"2017-03-06 13:55:28\" ...\n",
      " $ Trip.Duration: num  321 1610 416 350 534 586 281 723 689 493 ...\n",
      " $ Start.Station: chr  \"Wood St & Hubbard St\" \"Theater on the Lake\" \"May St & Taylor St\" \"Christiana Ave & Lawrence Ave\" ...\n",
      " $ End.Station  : chr  \"Damen Ave & Chicago Ave\" \"Sheffield Ave & Waveland Ave\" \"Wood St & Taylor St\" \"St. Louis Ave & Balmoral Ave\" ...\n",
      " $ User.Type    : Factor w/ 3 levels \"\",\"Customer\",..: 3 3 3 3 3 3 3 2 3 3 ...\n",
      " $ Gender       : Factor w/ 3 levels \"\",\"Female\",\"Male\": 3 2 3 3 3 3 2 1 3 3 ...\n",
      " $ Birth.Year   : num  1992 1992 1981 1986 1975 ...\n"
     ]
    }
   ],
   "source": [
    "# Dataframe info\n",
    "str(df)"
   ]
  },
  {
   "cell_type": "code",
   "execution_count": 9,
   "metadata": {},
   "outputs": [],
   "source": [
    "# Rename columns and create new variables (Month, Week Day and Hour)\n",
    "\n",
    "df <- df %>% \n",
    "  rename(City = source) %>% \n",
    "  mutate(Start.Time = ymd_hms(Start.Time),  # Parse strings to date-time  \n",
    "         Month = months(Start.Time),\n",
    "         Week_Day = weekdays(Start.Time),\n",
    "         Hour = hour(Start.Time)) "
   ]
  },
  {
   "cell_type": "markdown",
   "metadata": {},
   "source": [
    "### Question 1\n",
    "\n",
    "\n",
    "**#1 Popular times of travel (i.e., occurs most often in the start time)**\n",
    "\n",
    "- What is the most common month?\n",
    "\n",
    "- What is the most common day of week?\n",
    "\n",
    "- What is the most common hour of day?"
   ]
  },
  {
   "cell_type": "code",
   "execution_count": 15,
   "metadata": {},
   "outputs": [
    {
     "data": {
      "text/html": [
       "<table>\n",
       "<thead><tr><th scope=col>City</th><th scope=col>Common.Month</th><th scope=col>Common.Week.Day</th><th scope=col>Common.Hour</th></tr></thead>\n",
       "<tbody>\n",
       "\t<tr><td>Chicago      </td><td>June         </td><td>Monday       </td><td>17           </td></tr>\n",
       "\t<tr><td>New York City</td><td>June         </td><td>Wednesday    </td><td>17           </td></tr>\n",
       "\t<tr><td>Washington   </td><td>June         </td><td>Wednesday    </td><td> 8           </td></tr>\n",
       "</tbody>\n",
       "</table>\n"
      ],
      "text/latex": [
       "\\begin{tabular}{r|llll}\n",
       " City & Common.Month & Common.Week.Day & Common.Hour\\\\\n",
       "\\hline\n",
       "\t Chicago       & June          & Monday        & 17           \\\\\n",
       "\t New York City & June          & Wednesday     & 17           \\\\\n",
       "\t Washington    & June          & Wednesday     &  8           \\\\\n",
       "\\end{tabular}\n"
      ],
      "text/markdown": [
       "\n",
       "| City | Common.Month | Common.Week.Day | Common.Hour |\n",
       "|---|---|---|---|\n",
       "| Chicago       | June          | Monday        | 17            |\n",
       "| New York City | June          | Wednesday     | 17            |\n",
       "| Washington    | June          | Wednesday     |  8            |\n",
       "\n"
      ],
      "text/plain": [
       "  City          Common.Month Common.Week.Day Common.Hour\n",
       "1 Chicago       June         Monday          17         \n",
       "2 New York City June         Wednesday       17         \n",
       "3 Washington    June         Wednesday        8         "
      ]
     },
     "metadata": {},
     "output_type": "display_data"
    }
   ],
   "source": [
    "# Create mode function\n",
    "\n",
    "mode <- function(var){\n",
    "    #' Computes the mode of the input\n",
    "    uniquevar <- unique(var)\n",
    "    uniquevar[which.max(tabulate(match(var, uniquevar)))]\n",
    "}\n",
    "\n",
    "\n",
    "df %>% \n",
    "  select(City, Month, Week_Day, Hour) %>% \n",
    "  group_by(City) %>% \n",
    "  summarise(Common.Month = mode(Month),\n",
    "           Common.Week.Day = mode(Week_Day),\n",
    "           Common.Hour = mode(Hour))"
   ]
  },
  {
   "cell_type": "code",
   "execution_count": 39,
   "metadata": {},
   "outputs": [
    {
     "data": {
      "image/png": "[encoded data removed]",
      "text/plain": [
       "plot without title"
      ]
     },
     "metadata": {},
     "output_type": "display_data"
    }
   ],
   "source": [
    "# Plot \n",
    "\n",
    "df %>% \n",
    "  select(City, Month, Week_Day, Hour) %>% \n",
    "  group_by(City) %>% \n",
    "  summarise(Mode = mode(Hour)) %>% \n",
    "  ggplot() +\n",
    "  geom_bar(aes(x = City, y = Mode, fill = City), stat = \"identity\") +\n",
    "  labs(x = \"City\", \n",
    "       y = \"Hour\",\n",
    "       title = \"Most Common Hour\") +\n",
    "  theme_bw() +\n",
    "  theme(panel.grid.minor.x = element_blank(),\n",
    "        panel.grid.major.x = element_blank())"
   ]
  },
  {
   "cell_type": "markdown",
   "metadata": {},
   "source": [
    "The most common month was June, regarding the day, in Chicago the most rentals were during Monday's, while for New York City and Washington it was Wednesday's.\n",
    "\n",
    "The most common hour was 17:00 for Chicago and New York City while for Washington was 8:00. \n"
   ]
  },
  {
   "cell_type": "markdown",
   "metadata": {},
   "source": [
    "### Question 2\n",
    "\n",
    "Popular stations and trip\n",
    "\n",
    "- What is the most common start station?\n",
    "\n",
    "- What is the most common end station?\n",
    "\n",
    "- What is the most common trip from start to end (i.e., most frequent combination of start station and end station)?\n"
   ]
  },
  {
   "cell_type": "code",
   "execution_count": 12,
   "metadata": {},
   "outputs": [
    {
     "data": {
      "text/html": [
       "<table>\n",
       "<thead><tr><th scope=col>City</th><th scope=col>Common.Start.Station</th><th scope=col>Common.End.Station</th></tr></thead>\n",
       "<tbody>\n",
       "\t<tr><td><span style=white-space:pre-wrap>Chicago      </span>                      </td><td><span style=white-space:pre-wrap>Streeter Dr &amp; Grand Ave        </span></td><td><span style=white-space:pre-wrap>Streeter Dr &amp; Grand Ave        </span></td></tr>\n",
       "\t<tr><td>New York City                  </td><td>Pershing Square North          </td><td>Pershing Square North          </td></tr>\n",
       "\t<tr><td>Washington                     </td><td>Columbus Circle / Union Station</td><td>Columbus Circle / Union Station</td></tr>\n",
       "</tbody>\n",
       "</table>\n"
      ],
      "text/latex": [
       "\\begin{tabular}{r|lll}\n",
       " City & Common.Start.Station & Common.End.Station\\\\\n",
       "\\hline\n",
       "\t Chicago                           & Streeter Dr \\& Grand Ave         & Streeter Dr \\& Grand Ave        \\\\\n",
       "\t New York City                   & Pershing Square North           & Pershing Square North          \\\\\n",
       "\t Washington                      & Columbus Circle / Union Station & Columbus Circle / Union Station\\\\\n",
       "\\end{tabular}\n"
      ],
      "text/markdown": [
       "\n",
       "| City | Common.Start.Station | Common.End.Station |\n",
       "|---|---|---|\n",
       "| Chicago                         | Streeter Dr & Grand Ave         | Streeter Dr & Grand Ave         |\n",
       "| New York City                   | Pershing Square North           | Pershing Square North           |\n",
       "| Washington                      | Columbus Circle / Union Station | Columbus Circle / Union Station |\n",
       "\n"
      ],
      "text/plain": [
       "  City          Common.Start.Station            Common.End.Station             \n",
       "1 Chicago       Streeter Dr & Grand Ave         Streeter Dr & Grand Ave        \n",
       "2 New York City Pershing Square North           Pershing Square North          \n",
       "3 Washington    Columbus Circle / Union Station Columbus Circle / Union Station"
      ]
     },
     "metadata": {},
     "output_type": "display_data"
    }
   ],
   "source": [
    "df %>% \n",
    "  select(City, Start.Station, End.Station) %>% \n",
    "  group_by(City) %>% \n",
    "  summarise(Common.Start.Station = mode(Start.Station),\n",
    "           Common.End.Station = mode(End.Station))"
   ]
  },
  {
   "cell_type": "markdown",
   "metadata": {},
   "source": [
    "#### What is the most common trip from start to end (i.e., most frequent combination of start station and end station)?"
   ]
  },
  {
   "cell_type": "code",
   "execution_count": 60,
   "metadata": {},
   "outputs": [
    {
     "data": {
      "text/html": [
       "<table>\n",
       "<thead><tr><th scope=col>City</th><th scope=col>Start.Station</th><th scope=col>End.Station</th><th scope=col>n</th></tr></thead>\n",
       "<tbody>\n",
       "\t<tr><td><span style=white-space:pre-wrap>Washington   </span></td><td>Jefferson Dr &amp; 14th St SW                        </td><td>Jefferson Dr &amp; 14th St SW                        </td><td>198                                                  </td></tr>\n",
       "\t<tr><td>New York City                                                        </td><td><span style=white-space:pre-wrap>E 7 St &amp; Avenue A        </span></td><td><span style=white-space:pre-wrap>Cooper Square &amp; E 7 St   </span></td><td> 33                                                                  </td></tr>\n",
       "\t<tr><td><span style=white-space:pre-wrap>Chicago      </span>                </td><td>Lake Shore Dr &amp; Monroe St                                        </td><td><span style=white-space:pre-wrap>Streeter Dr &amp; Grand Ave  </span></td><td> 32                                                                  </td></tr>\n",
       "\t<tr><td><span style=white-space:pre-wrap>Chicago      </span>                </td><td><span style=white-space:pre-wrap>Streeter Dr &amp; Grand Ave  </span></td><td><span style=white-space:pre-wrap>Streeter Dr &amp; Grand Ave  </span></td><td> 32                                                                  </td></tr>\n",
       "</tbody>\n",
       "</table>\n"
      ],
      "text/latex": [
       "\\begin{tabular}{r|llll}\n",
       " City & Start.Station & End.Station & n\\\\\n",
       "\\hline\n",
       "\t Washington                  & Jefferson Dr \\& 14th St SW & Jefferson Dr \\& 14th St SW & 198                        \\\\\n",
       "\t New York City               & E 7 St \\& Avenue A         & Cooper Square \\& E 7 St    &  33                        \\\\\n",
       "\t Chicago                     & Lake Shore Dr \\& Monroe St & Streeter Dr \\& Grand Ave   &  32                        \\\\\n",
       "\t Chicago                     & Streeter Dr \\& Grand Ave   & Streeter Dr \\& Grand Ave   &  32                        \\\\\n",
       "\\end{tabular}\n"
      ],
      "text/markdown": [
       "\n",
       "| City | Start.Station | End.Station | n |\n",
       "|---|---|---|---|\n",
       "| Washington                | Jefferson Dr & 14th St SW | Jefferson Dr & 14th St SW | 198                       |\n",
       "| New York City             | E 7 St & Avenue A         | Cooper Square & E 7 St    |  33                       |\n",
       "| Chicago                   | Lake Shore Dr & Monroe St | Streeter Dr & Grand Ave   |  32                       |\n",
       "| Chicago                   | Streeter Dr & Grand Ave   | Streeter Dr & Grand Ave   |  32                       |\n",
       "\n"
      ],
      "text/plain": [
       "  City          Start.Station             End.Station               n  \n",
       "1 Washington    Jefferson Dr & 14th St SW Jefferson Dr & 14th St SW 198\n",
       "2 New York City E 7 St & Avenue A         Cooper Square & E 7 St     33\n",
       "3 Chicago       Lake Shore Dr & Monroe St Streeter Dr & Grand Ave    32\n",
       "4 Chicago       Streeter Dr & Grand Ave   Streeter Dr & Grand Ave    32"
      ]
     },
     "metadata": {},
     "output_type": "display_data"
    }
   ],
   "source": [
    "df %>% \n",
    "  select(City, Start.Station, End.Station) %>% \n",
    "  group_by(City, Start.Station, End.Station) %>% \n",
    "  count() %>% \n",
    "  arrange(desc(n)) %>% \n",
    "  group_by(City) %>% \n",
    "  top_n(n = 1, wt = n)\n"
   ]
  },
  {
   "cell_type": "markdown",
   "metadata": {},
   "source": [
    "The most common Start Station and End Station seems to be the same for all cities. While for the most common trip start to end in Chicago there is a tie between  Lake Shore Dr & Monroe St - Streeter Dr & Grand Ave and Streeter Dr & Grand Ave - Streeter Dr & Grand Ave."
   ]
  },
  {
   "cell_type": "markdown",
   "metadata": {},
   "source": [
    "### Question 3\n",
    "\n",
    "**Trip duration**\n",
    "\n",
    "- What is the total travel time for users in different cities?\n",
    "- What is the average travel time for users in different cities?"
   ]
  },
  {
   "cell_type": "markdown",
   "metadata": {},
   "source": [
    "#### What is the total travel time  and average travel for users in different cities?"
   ]
  },
  {
   "cell_type": "code",
   "execution_count": 14,
   "metadata": {},
   "outputs": [
    {
     "data": {
      "text/html": [
       "<table>\n",
       "<thead><tr><th scope=col>City</th><th scope=col>User.Type</th><th scope=col>Total.Travel</th><th scope=col>Average.Travel</th></tr></thead>\n",
       "<tbody>\n",
       "\t<tr><td>Chicago      </td><td>             </td><td>    3020     </td><td>3020         </td></tr>\n",
       "\t<tr><td>Chicago      </td><td>Customer     </td><td> 3369740     </td><td>1930         </td></tr>\n",
       "\t<tr><td>Chicago      </td><td>Subscriber   </td><td> 4715041     </td><td> 685         </td></tr>\n",
       "\t<tr><td>New York City</td><td>             </td><td>      NA     </td><td>  NA         </td></tr>\n",
       "\t<tr><td>New York City</td><td>Customer     </td><td>12189116     </td><td>2193         </td></tr>\n",
       "\t<tr><td>New York City</td><td>Subscriber   </td><td>37084015     </td><td> 755         </td></tr>\n",
       "\t<tr><td>Washington   </td><td>             </td><td>      NA     </td><td>  NA         </td></tr>\n",
       "\t<tr><td>Washington   </td><td>Customer     </td><td>61777358     </td><td>2634         </td></tr>\n",
       "\t<tr><td>Washington   </td><td>Subscriber   </td><td>48106186     </td><td> 733         </td></tr>\n",
       "</tbody>\n",
       "</table>\n"
      ],
      "text/latex": [
       "\\begin{tabular}{r|llll}\n",
       " City & User.Type & Total.Travel & Average.Travel\\\\\n",
       "\\hline\n",
       "\t Chicago       &               &     3020      & 3020         \\\\\n",
       "\t Chicago       & Customer      &  3369740      & 1930         \\\\\n",
       "\t Chicago       & Subscriber    &  4715041      &  685         \\\\\n",
       "\t New York City &               &       NA      &   NA         \\\\\n",
       "\t New York City & Customer      & 12189116      & 2193         \\\\\n",
       "\t New York City & Subscriber    & 37084015      &  755         \\\\\n",
       "\t Washington    &               &       NA      &   NA         \\\\\n",
       "\t Washington    & Customer      & 61777358      & 2634         \\\\\n",
       "\t Washington    & Subscriber    & 48106186      &  733         \\\\\n",
       "\\end{tabular}\n"
      ],
      "text/markdown": [
       "\n",
       "| City | User.Type | Total.Travel | Average.Travel |\n",
       "|---|---|---|---|\n",
       "| Chicago       |               |     3020      | 3020          |\n",
       "| Chicago       | Customer      |  3369740      | 1930          |\n",
       "| Chicago       | Subscriber    |  4715041      |  685          |\n",
       "| New York City |               |       NA      |   NA          |\n",
       "| New York City | Customer      | 12189116      | 2193          |\n",
       "| New York City | Subscriber    | 37084015      |  755          |\n",
       "| Washington    |               |       NA      |   NA          |\n",
       "| Washington    | Customer      | 61777358      | 2634          |\n",
       "| Washington    | Subscriber    | 48106186      |  733          |\n",
       "\n"
      ],
      "text/plain": [
       "  City          User.Type  Total.Travel Average.Travel\n",
       "1 Chicago                      3020     3020          \n",
       "2 Chicago       Customer    3369740     1930          \n",
       "3 Chicago       Subscriber  4715041      685          \n",
       "4 New York City                  NA       NA          \n",
       "5 New York City Customer   12189116     2193          \n",
       "6 New York City Subscriber 37084015      755          \n",
       "7 Washington                     NA       NA          \n",
       "8 Washington    Customer   61777358     2634          \n",
       "9 Washington    Subscriber 48106186      733          "
      ]
     },
     "metadata": {},
     "output_type": "display_data"
    }
   ],
   "source": [
    "df  %>% \n",
    "    select(City, User.Type, Trip.Duration)  %>% \n",
    "    group_by(City, User.Type)  %>% \n",
    "    summarise(Total.Travel = sum(Trip.Duration),\n",
    "             Average.Travel = round(mean(Trip.Duration)))"
   ]
  },
  {
   "cell_type": "markdown",
   "metadata": {},
   "source": [
    "#### What is the total travel time for users in different cities? (Graph)"
   ]
  },
  {
   "cell_type": "code",
   "execution_count": 110,
   "metadata": {},
   "outputs": [
    {
     "name": "stderr",
     "output_type": "stream",
     "text": [
      "Warning message:\n",
      "“Removed 2 rows containing missing values (position_stack).”"
     ]
    },
    {
     "data": {
      "image/png": "[encoded data removed]",
      "text/plain": [
       "plot without title"
      ]
     },
     "metadata": {},
     "output_type": "display_data"
    }
   ],
   "source": [
    "df  %>% \n",
    "    select(City, User.Type, Trip.Duration)  %>% \n",
    "    group_by(City, User.Type)  %>% \n",
    "    summarise(Total.Travel = sum(Trip.Duration))  %>% \n",
    "    ungroup()  %>% \n",
    "    replace_na(list(Total.Travel = NA))  %>% \n",
    "    ggplot() +\n",
    "    geom_bar(aes(x = City, y = Total.Travel, fill = User.Type), stat = \"identity\") +\n",
    "    scale_y_log10(breaks = trans_breaks(\"log10\", function(x) 10^x),\n",
    "                  labels = trans_format(\"log10\", math_format(10^.x))) + # Used log10 scale so that the NA values for Chicago could be displayed.\n",
    "    labs(x = \"City\", \n",
    "         y = \"Total Travel\",\n",
    "         title = \"Total Travel time for users by City\") +\n",
    "      theme_bw() +\n",
    "      theme(panel.grid.minor.x = element_blank(),\n",
    "            panel.grid.major.x = element_blank())"
   ]
  },
  {
   "cell_type": "markdown",
   "metadata": {},
   "source": [
    "####  What is the average travel time for users in different cities? (Graph)"
   ]
  },
  {
   "cell_type": "code",
   "execution_count": 111,
   "metadata": {},
   "outputs": [
    {
     "name": "stderr",
     "output_type": "stream",
     "text": [
      "Warning message:\n",
      "“Removed 2 rows containing missing values (position_stack).”"
     ]
    },
    {
     "data": {
      "image/png": "[encoded data removed]",
      "text/plain": [
       "plot without title"
      ]
     },
     "metadata": {},
     "output_type": "display_data"
    }
   ],
   "source": [
    "df %>% \n",
    "  select(City, User.Type, Trip.Duration) %>% \n",
    "  group_by(City, User.Type) %>% \n",
    "  summarise(Average.Travel = mean(Trip.Duration))  %>% \n",
    "  ggplot() +\n",
    "      geom_bar(aes(x = City, y = Average.Travel, fill = User.Type), stat = \"identity\") +\n",
    "  labs(x = \"City\", \n",
    "         y = \"Average Travel \",\n",
    "         title = \"Average Travel time for users by City\") +\n",
    "      theme_bw() +\n",
    "      theme(panel.grid.minor.x = element_blank(),\n",
    "            panel.grid.major.x = element_blank())\n",
    "\n"
   ]
  },
  {
   "cell_type": "markdown",
   "metadata": {},
   "source": [
    "While Chicago has the more bike trips, most of them are NA values for User Type. The diference between the Customer and Subscriber may not be significant for all Cities."
   ]
  },
  {
   "cell_type": "markdown",
   "metadata": {},
   "source": [
    "\n",
    "## Finishing Up\n",
    "\n",
    "> Congratulations!  You have reached the end of the Explore Bikeshare Data Project. You should be very proud of all you have accomplished!\n",
    "\n",
    "> **Tip**: Once you are satisfied with your work here, check over your report to make sure that it is satisfies all the areas of the [rubric](https://review.udacity.com/#!/rubrics/2508/view). \n",
    "\n",
    "\n",
    "## Directions to Submit\n",
    "\n",
    "> Before you submit your project, you need to create a .html or .pdf version of this notebook in the workspace here. To do that, run the code cell below. If it worked correctly, you should get a return code of 0, and you should see the generated .html file in the workspace directory (click on the orange Jupyter icon in the upper left).\n",
    "\n",
    "> Alternatively, you can download this report as .html via the **File** > **Download as** submenu, and then manually upload it into the workspace directory by clicking on the orange Jupyter icon in the upper left, then using the Upload button.\n",
    "\n",
    "> Once you've done this, you can submit your project by clicking on the \"Submit Project\" button in the lower right here. This will create and submit a zip file with this .ipynb doc and the .html or .pdf version you created. Congratulations!"
   ]
  },
  {
   "cell_type": "code",
   "execution_count": null,
   "metadata": {},
   "outputs": [],
   "source": [
    "system('python -m nbconvert Explore_bikeshare_data.ipynb')"
   ]
  }
 ],
 "metadata": {
  "kernelspec": {
   "display_name": "R",
   "language": "R",
   "name": "ir"
  },
  "language_info": {
   "codemirror_mode": "r",
   "file_extension": ".r",
   "mimetype": "text/x-r-source",
   "name": "R",
   "pygments_lexer": "r",
   "version": "3.5.1"
  }
 },
 "nbformat": 4,
 "nbformat_minor": 2
}
